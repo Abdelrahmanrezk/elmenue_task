{
 "cells": [
  {
   "cell_type": "code",
   "execution_count": 1,
   "metadata": {},
   "outputs": [],
   "source": [
    "import pandas as pd\n",
    "import numpy as np\n",
    "import json\n",
    "import re"
   ]
  },
  {
   "cell_type": "code",
   "execution_count": 2,
   "metadata": {},
   "outputs": [],
   "source": [
    "df = pd.read_csv('elmenus_data.csv')"
   ]
  },
  {
   "cell_type": "code",
   "execution_count": 3,
   "metadata": {},
   "outputs": [
    {
     "data": {
      "text/html": [
       "<div>\n",
       "<style scoped>\n",
       "    .dataframe tbody tr th:only-of-type {\n",
       "        vertical-align: middle;\n",
       "    }\n",
       "\n",
       "    .dataframe tbody tr th {\n",
       "        vertical-align: top;\n",
       "    }\n",
       "\n",
       "    .dataframe thead th {\n",
       "        text-align: right;\n",
       "    }\n",
       "</style>\n",
       "<table border=\"1\" class=\"dataframe\">\n",
       "  <thead>\n",
       "    <tr style=\"text-align: right;\">\n",
       "      <th></th>\n",
       "      <th>_id</th>\n",
       "      <th>City</th>\n",
       "      <th>Areas_Zones</th>\n",
       "    </tr>\n",
       "  </thead>\n",
       "  <tbody>\n",
       "    <tr>\n",
       "      <td>0</td>\n",
       "      <td>0</td>\n",
       "      <td>Ain Sokhna</td>\n",
       "      <td>{'Ain Sokhna': ['Ain Sokhna'], 'GR Galala Road...</td>\n",
       "    </tr>\n",
       "    <tr>\n",
       "      <td>1</td>\n",
       "      <td>1</td>\n",
       "      <td>Al Fayoum</td>\n",
       "      <td>{'AH Al Hawatem': ['Al Hawatem'], 'D Dallah': ...</td>\n",
       "    </tr>\n",
       "    <tr>\n",
       "      <td>2</td>\n",
       "      <td>2</td>\n",
       "      <td>Alexandria</td>\n",
       "      <td>{'AK Abou Kir': ['Abou Kir'], 'Abou Soliman': ...</td>\n",
       "    </tr>\n",
       "    <tr>\n",
       "      <td>3</td>\n",
       "      <td>4</td>\n",
       "      <td>Benha</td>\n",
       "      <td>{'A Atreb': ['Atreb'], 'EV El Vill': ['El Vill...</td>\n",
       "    </tr>\n",
       "    <tr>\n",
       "      <td>4</td>\n",
       "      <td>5</td>\n",
       "      <td>Beni Suef</td>\n",
       "      <td>{'AA Al Azhary': ['Al Azhary'], 'AHEG Al Hai E...</td>\n",
       "    </tr>\n",
       "  </tbody>\n",
       "</table>\n",
       "</div>"
      ],
      "text/plain": [
       "   _id        City                                        Areas_Zones\n",
       "0    0  Ain Sokhna  {'Ain Sokhna': ['Ain Sokhna'], 'GR Galala Road...\n",
       "1    1   Al Fayoum  {'AH Al Hawatem': ['Al Hawatem'], 'D Dallah': ...\n",
       "2    2  Alexandria  {'AK Abou Kir': ['Abou Kir'], 'Abou Soliman': ...\n",
       "3    4       Benha  {'A Atreb': ['Atreb'], 'EV El Vill': ['El Vill...\n",
       "4    5   Beni Suef  {'AA Al Azhary': ['Al Azhary'], 'AHEG Al Hai E..."
      ]
     },
     "execution_count": 3,
     "metadata": {},
     "output_type": "execute_result"
    }
   ],
   "source": [
    "df.head()"
   ]
  },
  {
   "cell_type": "markdown",
   "metadata": {},
   "source": [
    "# # how many areas in each city ..?"
   ]
  },
  {
   "cell_type": "code",
   "execution_count": 4,
   "metadata": {},
   "outputs": [],
   "source": [
    "def city_numbers(df):\n",
    "    '''\n",
    "    using the feature of \":\" which each key has to return number of areas in each city\n",
    "    argument:\n",
    "        data file\n",
    "    return:\n",
    "        dictionary of name of city with number of areas in this city\n",
    "    '''\n",
    "    citys = {}\n",
    "    for key,val in df['Areas_Zones'].items():\n",
    "        areas = re.findall(':', val)\n",
    "        citys[df['City'][key]] = len(areas)\n",
    "    return citys"
   ]
  },
  {
   "cell_type": "code",
   "execution_count": 5,
   "metadata": {},
   "outputs": [
    {
     "name": "stdout",
     "output_type": "stream",
     "text": [
      "how many areas in each city ..?\n",
      "\n"
     ]
    },
    {
     "data": {
      "text/plain": [
       "{'Ain Sokhna': 4,\n",
       " 'Al Fayoum': 6,\n",
       " 'Alexandria': 7,\n",
       " 'Benha': 7,\n",
       " 'Beni Suef': 4,\n",
       " 'Cairo': 7,\n",
       " 'Dahab': 7,\n",
       " 'Damanhour': 6,\n",
       " 'Damietta': 7,\n",
       " 'El Gouna': 4,\n",
       " 'El Mansoura': 7,\n",
       " 'Hurghada': 7,\n",
       " 'Ismailia': 7,\n",
       " 'Kafr El Sheikh': 7,\n",
       " 'Kafr Eldawar': 3,\n",
       " 'Minya': 3,\n",
       " 'North Coast': 7,\n",
       " 'Port Said': 6,\n",
       " 'Ras Sudr': 1,\n",
       " 'Sharm El Sheikh': 5,\n",
       " 'Shebin El Kawm': 4,\n",
       " 'Suez': 7,\n",
       " 'Suhag': 7,\n",
       " 'Tanta': 7}"
      ]
     },
     "execution_count": 5,
     "metadata": {},
     "output_type": "execute_result"
    }
   ],
   "source": [
    "number_of_area_in_city = city_numbers(df)\n",
    "print(\"how many areas in each city ..?\\n\")\n",
    "number_of_area_in_city"
   ]
  },
  {
   "cell_type": "markdown",
   "metadata": {},
   "source": [
    "# # how many zones in each of these areas ..?"
   ]
  },
  {
   "cell_type": "code",
   "execution_count": 6,
   "metadata": {},
   "outputs": [],
   "source": [
    "def city_numbers(df):\n",
    "    '''\n",
    "    first regular expression to extract zones number for each area for each city\n",
    "    second regular expression to extract name for each zone in city\n",
    "    arguments:\n",
    "        data file\n",
    "    return:\n",
    "        dictionary of city name as key and value of list contain tuple of:\n",
    "        name of zone area name and number of zone in this area\n",
    "        \n",
    "    '''\n",
    "    area_zones = {}\n",
    "    for key,val in df['Areas_Zones'].items():\n",
    "        zones_numbers = re.findall('\\[(.*?)\\]', val)\n",
    "        zones_name = re.findall('(\\'[\\w -?.?]+\\':)|(\"[\\w -?.?]+\":)', val)\n",
    "        number_of_zones_in_area_of_city = []\n",
    "        for i in range(0,len( zones_numbers)):            \n",
    "            number_of_zones_in_area_of_city.append((zones_name[i][0],\n",
    "                                                    len(zones_numbers[i].split(\",\"))))\n",
    "        area_zones[df['City'][key]] = number_of_zones_in_area_of_city\n",
    "    return area_zones"
   ]
  },
  {
   "cell_type": "code",
   "execution_count": 7,
   "metadata": {},
   "outputs": [
    {
     "data": {
      "text/plain": [
       "{'Ain Sokhna': [(\"'Ain Sokhna':\", 1),\n",
       "  (\"'GR Galala Road':\", 2),\n",
       "  (\"'SSR Sokhna-Suez Road':\", 1),\n",
       "  (\"'ZR Zafarana Road':\", 2)],\n",
       " 'Al Fayoum': [(\"'AH Al Hawatem':\", 1),\n",
       "  (\"'D Dallah':\", 1),\n",
       "  (\"'EM El Massalah':\", 1),\n",
       "  (\"'FD Fayoum Downtown':\", 1),\n",
       "  (\"'L Lotfallah':\", 1),\n",
       "  (\"'TV Tunis Village':\", 1)],\n",
       " 'Alexandria': [(\"'AK Abou Kir':\", 1),\n",
       "  (\"'Abou Soliman':\", 1),\n",
       "  (\"'AA Al Agami':\", 6),\n",
       "  (\"'AA Al Amriya':\", 1),\n",
       "  (\"'AA Al Asafra':\", 2),\n",
       "  (\"'AA Al Atarin':\", 1),\n",
       "  (\"'AA Al Awayed':\", 1)],\n",
       " 'Benha': [(\"'A Atreb':\", 1),\n",
       "  (\"'EV El Vill':\", 1),\n",
       "  (\"'GES Gharb El Stdad':\", 1),\n",
       "  (\"'KEG Kafr El Gzar':\", 1),\n",
       "  (\"'KT Kolyt Tegara':\", 1),\n",
       "  (\"'MEN Mansheyet El Nour':\", 1),\n",
       "  (\"'MB Manshya Benha':\", 1)],\n",
       " 'Beni Suef': [(\"'AA Al Azhary':\", 1),\n",
       "  (\"'AHEG Al Hai El Ghabry':\", 1),\n",
       "  (\"'BHV Bany Haroon Village':\", 1),\n",
       "  (\"'EZ El Zohour':\", 1)],\n",
       " 'Cairo': [(\"'O 6th of October':\", 7),\n",
       "  (\"'A Abbassiya':\", 3),\n",
       "  (\"'A Agouza':\", 1),\n",
       "  (\"'Ain Shams':\", 1),\n",
       "  (\"'AK Al Katameya':\", 6),\n",
       "  (\"'AM Al Mokatam':\", 7),\n",
       "  (\"'ARC Al Rehab City':\", 1)],\n",
       " 'Dahab': [(\"'BL Blue Lagoon':\", 1),\n",
       "  (\"'ES Elfanar Street':\", 1),\n",
       "  (\"'ES Elmelil Street':\", 1),\n",
       "  (\"'L Laguna':\", 1),\n",
       "  (\"'L Lighthouse':\", 1),\n",
       "  (\"'ME Magra Elseil':\", 1),\n",
       "  (\"'M Masbat':\", 1)],\n",
       " 'Damanhour': [(\"'AGS Al Gomhorya Street':\", 1),\n",
       "  (\"'AMAD Al Maahad Al Dini':\", 1),\n",
       "  (\"'AA Ard Admon':\", 1),\n",
       "  (\"'DU Damanhour University':\", 1),\n",
       "  (\"'O Opera':\", 1),\n",
       "  (\"'Q Qaraqes':\", 1)],\n",
       " 'Damietta': [(\"'EH El Harbi':\", 1),\n",
       "  ('', 1),\n",
       "  (\"'HEZ Hay El Zohour':\", 1),\n",
       "  (\"'MAG Mit Abou Ghaleb':\", 1),\n",
       "  (\"'ND New Damietta':\", 1),\n",
       "  (\"'REB Ras El Bar':\", 1),\n",
       "  (\"'SS Sorour Square':\", 1)],\n",
       " 'El Gouna': [(\"'D Downtown':\", 1),\n",
       "  (\"'GD Gouna Downtown':\", 3),\n",
       "  (\"'GM Gouna Marina':\", 2),\n",
       "  (\"'KEG Kafr El Gouna':\", 1)],\n",
       " 'El Mansoura': [(\"'A Abdel Salam Aref':\", 1),\n",
       "  (\"'EG El Galaa':\", 1),\n",
       "  (\"'EG El Gamaa':\", 1),\n",
       "  (\"'EG El Gomhoria':\", 1),\n",
       "  (\"'EM El Mashaya':\", 1),\n",
       "  (\"'GS Gihan Street':\", 1),\n",
       "  (\"'PS Portsaid Street':\", 1)],\n",
       " 'Hurghada': [(\"'ED El Dahar':\", 1),\n",
       "  (\"'EH El Hadaba':\", 1),\n",
       "  (\"'EK El Kawther':\", 1),\n",
       "  (\"'EM El Mamsha':\", 1),\n",
       "  (\"'MB Makadi Bay':\", 1),\n",
       "  (\"'MH Marina-Hurghada':\", 1),\n",
       "  (\"'SH Sahl Hasheesh':\", 1)],\n",
       " 'Ismailia': [('', 1),\n",
       "  (\"'D Downtown':\", 1),\n",
       "  (\"'EB El Balabsa':\", 1),\n",
       "  (\"'EB El Balajat':\", 1),\n",
       "  (\"'EMEG El Mahata El Gadeda':\", 1),\n",
       "  (\"'ES El Shohda':\", 1),\n",
       "  (\"'HES Hay El Salam':\", 1)],\n",
       " 'Kafr El Sheikh': [('', 1),\n",
       "  (\"'EMT El Madina Togarya':\", 1),\n",
       "  ('', 1),\n",
       "  (\"'KESU Kafr El Sheikh University':\", 1),\n",
       "  (\"'MEM Mabna El Mohafza':\", 1),\n",
       "  (\"'MER Masaken El Ray':\", 1),\n",
       "  (\"'NKES Nadi Kafr El Sheikh':\", 1)],\n",
       " 'Kafr Eldawar': [(\"'AZC Al Zohoor City':\", 1),\n",
       "  (\"'SSD Sidi Shehata District':\", 1),\n",
       "  (\"'THD Talaat Harb District':\", 1)],\n",
       " 'Minya': [(\"'BM Bani Mazar':\", 1),\n",
       "  (\"'NM New Minya':\", 1),\n",
       "  (\"'S Samalout':\", 1)],\n",
       " 'North Coast': [(\"'AF Al Fayrouz':\", 1),\n",
       "  (\"'AH Al Hamam':\", 1),\n",
       "  (\"'AB Almaza Bay':\", 1),\n",
       "  (\"'A Amwaj':\", 1),\n",
       "  (\"'B Badr':\", 1),\n",
       "  (\"'B Bianchi':\", 1),\n",
       "  (\"'BSA Blumar Sidi Abdulrahman':\", 1)],\n",
       " 'Port Said': [(\"'E El ta3awoneyat':\", 1),\n",
       "  (\"'HS Hay Sharq':\", 1),\n",
       "  (\"'HA Hay el Arab':\", 1),\n",
       "  (\"'HM Hay el Manakh':\", 1),\n",
       "  (\"'HZ Hay el Zohoor':\", 1),\n",
       "  (\"'PF Port Fouad':\", 1)],\n",
       " 'Ras Sudr': [(\"'RS Ras Sudr':\", 5)],\n",
       " 'Sharm El Sheikh': [(\"'NB Naama Bay':\", 1),\n",
       "  (\"'NB Nabq Bay':\", 1),\n",
       "  (\"'OS Old Sharm':\", 1),\n",
       "  ('', 1),\n",
       "  (\"'UESH Um El Sid Hill':\", 1)],\n",
       " 'Shebin El Kawm': [(\"'AG Al Galaa':\", 1),\n",
       "  (\"'AM Al Mahata':\", 1),\n",
       "  (\"'KE Kafr Elmeselha':\", 1),\n",
       "  (\"'SA Stadium Area':\", 1)],\n",
       " 'Suez': [(\"'O 24 October':\", 1),\n",
       "  (\"'AAEG Ahmed Abdo El Gded':\", 1),\n",
       "  (\"'AH Al Herafyeen':\", 1),\n",
       "  (\"'Al Salam 1':\", 1),\n",
       "  (\"'Al Salam 2':\", 1),\n",
       "  (\"'EH El Heisha':\", 1),\n",
       "  (\"'EM El Mostaqbal 1 & 2':\", 1)],\n",
       " 'Suhag': [(\"'B Baga':\", 1),\n",
       "  (\"'CEN Cornishe El Nile':\", 1),\n",
       "  (\"'D Downtown':\", 1),\n",
       "  (\"'EGS El Gomhorya Street':\", 1),\n",
       "  (\"'EM El Mahata':\", 1),\n",
       "  (\"'EZI El Zohour Island':\", 1),\n",
       "  (\"'KI Karaman Island':\", 1)],\n",
       " 'Tanta': [(\"'BEM Beit El Maqdis':\", 1),\n",
       "  (\"'BS Botros Street':\", 1),\n",
       "  (\"'D Downtown':\", 1),\n",
       "  (\"'EGSEB El Geish Street (El Bahr )':\", 1),\n",
       "  (\"'EHS El Helw Street':\", 1),\n",
       "  (\"'ENS El Nady Street':\", 1),\n",
       "  ('', 1)]}"
      ]
     },
     "execution_count": 7,
     "metadata": {},
     "output_type": "execute_result"
    }
   ],
   "source": [
    "area_zones = city_numbers(df)\n",
    "area_zones"
   ]
  },
  {
   "cell_type": "code",
   "execution_count": null,
   "metadata": {},
   "outputs": [],
   "source": []
  },
  {
   "cell_type": "code",
   "execution_count": null,
   "metadata": {},
   "outputs": [],
   "source": []
  },
  {
   "cell_type": "code",
   "execution_count": null,
   "metadata": {},
   "outputs": [],
   "source": []
  },
  {
   "cell_type": "code",
   "execution_count": null,
   "metadata": {},
   "outputs": [],
   "source": []
  }
 ],
 "metadata": {
  "kernelspec": {
   "display_name": "Python 3",
   "language": "python",
   "name": "python3"
  },
  "language_info": {
   "codemirror_mode": {
    "name": "ipython",
    "version": 3
   },
   "file_extension": ".py",
   "mimetype": "text/x-python",
   "name": "python",
   "nbconvert_exporter": "python",
   "pygments_lexer": "ipython3",
   "version": "3.7.4"
  }
 },
 "nbformat": 4,
 "nbformat_minor": 2
}
